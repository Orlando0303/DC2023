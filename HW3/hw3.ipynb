{
 "cells": [
  {
   "cell_type": "markdown",
   "id": "63a29840",
   "metadata": {},
   "source": [
    "# 作业3"
   ]
  },
  {
   "cell_type": "markdown",
   "id": "a132aded",
   "metadata": {},
   "source": [
    "### 第1题：Numpy 练习"
   ]
  },
  {
   "cell_type": "markdown",
   "id": "ba29b8fc",
   "metadata": {},
   "source": [
    "以下运算都可以调用相应的函数而避免使用显式循环。"
   ]
  },
  {
   "cell_type": "code",
   "execution_count": 1,
   "id": "44e69ed0",
   "metadata": {},
   "outputs": [],
   "source": [
    "import numpy as np\n"
   ]
  },
  {
   "cell_type": "markdown",
   "id": "37a7c48d",
   "metadata": {},
   "source": [
    "(a) 生成1000个服从 (0, 1) 间均匀分布的随机数，赋值给变量 `x`，并打印其最后10个元素。"
   ]
  },
  {
   "cell_type": "code",
   "execution_count": 2,
   "id": "5a533062",
   "metadata": {},
   "outputs": [
    {
     "name": "stdout",
     "output_type": "stream",
     "text": [
      "[0.55013168 0.28422192 0.53188413 0.56307488 0.01439873 0.09039268\n",
      " 0.61793307 0.27170328 0.4029252  0.63552254]\n"
     ]
    }
   ],
   "source": [
    "# 此处插入代码\n",
    "np.random.seed(2020111142)\n",
    "x = np.random.uniform(0,1,1000)\n",
    "print(x[-10:])"
   ]
  },
  {
   "cell_type": "markdown",
   "id": "9e1e545a",
   "metadata": {},
   "source": [
    "(b) 创建向量 `y`，令其在数学上等于 $y=-\\log(x)$，其中 $\\log$ 为自然对数，并打印其前10个元素。查找在 Python 中绘制图形的方法，绘制 `y` 的直方图。"
   ]
  },
  {
   "cell_type": "code",
   "execution_count": 3,
   "id": "2153476f",
   "metadata": {},
   "outputs": [
    {
     "name": "stdout",
     "output_type": "stream",
     "text": [
      "[0.57674715 0.95420365 0.01668096 0.69331745 0.06451825 1.706717\n",
      " 2.89623445 0.45719508 1.43700078 1.64907451]\n"
     ]
    },
    {
     "data": {
      "image/png": "[encoded data removed]",
      "text/plain": [
       "<Figure size 640x480 with 1 Axes>"
      ]
     },
     "metadata": {},
     "output_type": "display_data"
    }
   ],
   "source": [
    "# 此处插入代码\n",
    "y = -np.log(x)\n",
    "print(y[:10])\n",
    "\n",
    "import matplotlib.pyplot as plt\n",
    "plt.hist(x = y, bins = 30)\n",
    "plt.title(\"histogram of y\")\n",
    "plt.xlabel(\"y value\")\n",
    "plt.ylabel(\"frequency\")\n",
    "plt.show()"
   ]
  },
  {
   "cell_type": "markdown",
   "id": "b361622f",
   "metadata": {},
   "source": [
    "(c) 猜测或证明 `y` 服从什么分布，并简要说明理由。"
   ]
  },
  {
   "attachments": {},
   "cell_type": "markdown",
   "id": "fca4bb86",
   "metadata": {},
   "source": [
    "y服从$\\lambda$为1的指数分布。\n",
    "\n",
    "理由：指数分布的分布函数为$F(y)=1-e^{-\\lambda y}$，令$x=F(y)=1-e^{-\\lambda y}$，可解得$y=-\\frac{1}{\\lambda}\\log(1-x)$，由于x服从(0,1)间均匀分布，1-x也服从于(0,1)均匀分布，因此$y=-\\frac{1}{\\lambda}\\log(x)$来生成指数分布随机数，所以$y=-\\log(x)$服从$\\lambda$为1的指数分布。"
   ]
  },
  {
   "cell_type": "markdown",
   "id": "f5fd972a",
   "metadata": {},
   "source": [
    "(d) 将 `y` 转为 $200\\times 5$ 的矩阵，赋值给 `mat1`，元素**按行排列**。打印其前5行。"
   ]
  },
  {
   "cell_type": "code",
   "execution_count": 4,
   "id": "a9ea0f53",
   "metadata": {},
   "outputs": [
    {
     "name": "stdout",
     "output_type": "stream",
     "text": [
      "[[0.57674715 0.95420365 0.01668096 0.69331745 0.06451825]\n",
      " [1.706717   2.89623445 0.45719508 1.43700078 1.64907451]\n",
      " [1.53815084 0.53819804 0.5333801  1.36263196 1.11737224]\n",
      " [0.58151029 1.30417863 0.44745282 0.03650723 0.91712171]\n",
      " [0.70529628 0.85029417 1.2923237  0.54612135 1.01277792]]\n"
     ]
    }
   ],
   "source": [
    "# 此处插入代码\n",
    "mat1 = np.reshape(y,(200,5),'C')\n",
    "print(mat1[:5,:])"
   ]
  },
  {
   "cell_type": "markdown",
   "id": "be5fb6a1",
   "metadata": {},
   "source": [
    "(e) 将 `y` 转为 $200\\times 5$ 的矩阵，赋值给 `mat2`，元素**按列排列**。打印其前5行。（提示：可以使用转置操作）"
   ]
  },
  {
   "cell_type": "code",
   "execution_count": 5,
   "id": "fe79fd31",
   "metadata": {},
   "outputs": [
    {
     "name": "stdout",
     "output_type": "stream",
     "text": [
      "[[0.57674715 2.57108007 0.23577878 1.36970075 0.48418259]\n",
      " [0.95420365 0.06974796 0.31054726 0.06272007 0.54373793]\n",
      " [0.01668096 0.12921928 0.19496057 0.16018067 0.81253708]\n",
      " [0.69331745 1.86183692 0.01631035 0.07881109 0.06480507]\n",
      " [0.06451825 0.65288098 1.36496123 0.92015216 0.61018258]]\n"
     ]
    }
   ],
   "source": [
    "# 此处插入代码\n",
    "mat2 = np.reshape(y,(200,5),'F')\n",
    "print(mat2[:5,:])"
   ]
  },
  {
   "cell_type": "markdown",
   "id": "3f416e8d",
   "metadata": {},
   "source": [
    "(f) 计算 `mat1` 每一列的均值，得到一个长度为5的向量 `v`，将其打印出来。然后将 `mat1` 的每一列进行中心化（即减去各自的均值），赋给变量 `mat1_centered`。类似地，计算 `mat1_centered` 的列均值向量并打印出来。"
   ]
  },
  {
   "cell_type": "code",
   "execution_count": 6,
   "id": "d7e74a3e",
   "metadata": {},
   "outputs": [
    {
     "name": "stdout",
     "output_type": "stream",
     "text": [
      "[1.01475786 1.01614718 0.90042134 1.06971835 0.94970603]\n",
      "[-2.89768209e-16  2.39253062e-16 -2.33146835e-16 -5.08482145e-16\n",
      " -7.49400542e-18]\n"
     ]
    }
   ],
   "source": [
    "# 此处插入代码\n",
    "v = mat1.mean(axis=0)\n",
    "print(v)\n",
    "mat1_centered = mat1-v\n",
    "print(mat1_centered.mean(axis=0))"
   ]
  },
  {
   "cell_type": "markdown",
   "id": "d761f5c6",
   "metadata": {},
   "source": [
    "### 第2题：统计计算练习"
   ]
  },
  {
   "cell_type": "markdown",
   "id": "a7691017",
   "metadata": {},
   "source": [
    "(a) 生成一个 $10000\\times 1000$ 的矩阵 `X`，每个元素服从标准正态分布。生成一个长度为 10000 的向量 `y`，每个元素服从均值为0、方差为2的正态分布。生成一个长度为 10000 的向量 `w`，每个元素服从 $(1,5)$ 上的均匀分布。"
   ]
  },
  {
   "cell_type": "code",
   "execution_count": 7,
   "id": "e7d73695",
   "metadata": {},
   "outputs": [],
   "source": [
    "# 此处插入代码\n",
    "np.random.seed(2020111142)\n",
    "x = np.random.normal(0,1,(10000,1000))\n",
    "y = np.random.normal(0,2**0.5,10000)\n",
    "w = np.random.uniform(1,5,10000)"
   ]
  },
  {
   "cell_type": "markdown",
   "id": "82fad746",
   "metadata": {},
   "source": [
    "(b) 使用恰当的方式计算 $\\hat{y}=X(X^{T}WX)^{-1}X^{T}Wy$，其中 `W` 是以 `w` 为对角线的对角矩阵。"
   ]
  },
  {
   "cell_type": "code",
   "execution_count": 19,
   "id": "8d9b17f6",
   "metadata": {},
   "outputs": [
    {
     "name": "stdout",
     "output_type": "stream",
     "text": [
      "[ 0.86667276 -0.50098783 -0.12361116 ...  0.03907953  0.0412403\n",
      "  0.00345097]\n",
      "running time: 0.3329777717590332 seconds.\n"
     ]
    }
   ],
   "source": [
    "import time\n",
    "t1 = time.time()\n",
    "\n",
    "# 此处插入代码\n",
    "right = x.T.dot(w*y)\n",
    "inv = (x.T*w).dot(x)\n",
    "right = np.linalg.solve(inv,right)\n",
    "yhat = x.dot(right)\n",
    "\n",
    "t2 = time.time()\n",
    "print(yhat)\n",
    "print(f\"running time: {t2 - t1} seconds.\")"
   ]
  },
  {
   "cell_type": "code",
   "execution_count": 20,
   "id": "cc9668d6",
   "metadata": {},
   "outputs": [
    {
     "name": "stdout",
     "output_type": "stream",
     "text": [
      "[ 0.86667276 -0.50098783 -0.12361116 ...  0.03907953  0.0412403\n",
      "  0.00345097]\n",
      "running time: 0.37770509719848633 seconds.\n"
     ]
    }
   ],
   "source": [
    "import time\n",
    "t1 = time.time()\n",
    "\n",
    "# 此处插入代码\n",
    "Q = x.T*w\n",
    "right = Q.dot(y)\n",
    "inv = Q.dot(x)\n",
    "right = np.linalg.solve(inv,right)\n",
    "yhat = x.dot(right)\n",
    "\n",
    "t2 = time.time()\n",
    "print(yhat)\n",
    "print(f\"running time: {t2 - t1} seconds.\")"
   ]
  },
  {
   "cell_type": "markdown",
   "id": "6d7bed85",
   "metadata": {},
   "source": [
    "### 第3题：PySpark RDD 练习"
   ]
  },
  {
   "cell_type": "markdown",
   "id": "df963895",
   "metadata": {},
   "source": [
    "利用如下代码模拟生成一个 $100000\\times 10$ 的矩阵，并写入文件 `sim_data.txt`。"
   ]
  },
  {
   "cell_type": "code",
   "execution_count": 10,
   "id": "9314c6bf",
   "metadata": {},
   "outputs": [],
   "source": [
    "import numpy as np\n",
    "np.random.seed(123)\n",
    "dat = np.random.uniform(size=(100000, 10))\n",
    "np.savetxt(\"sim_data.txt\", dat, fmt=\"%.6f\", delimiter=\",\")"
   ]
  },
  {
   "cell_type": "code",
   "execution_count": 11,
   "id": "dc2a9348",
   "metadata": {},
   "outputs": [
    {
     "data": {
      "text/plain": [
       "array([0.08296794, 0.08328157, 0.08358426, 0.08287924, 0.08328201,\n",
       "       0.08316877, 0.08332026, 0.08297215, 0.08334429, 0.08343068])"
      ]
     },
     "execution_count": 11,
     "metadata": {},
     "output_type": "execute_result"
    }
   ],
   "source": [
    "np.var(dat,axis=0)"
   ]
  },
  {
   "cell_type": "markdown",
   "id": "ce5212ab",
   "metadata": {},
   "source": [
    "使用合适的命令以单机模式启动 PySpark，并使用4个 CPU 核心。"
   ]
  },
  {
   "cell_type": "code",
   "execution_count": 12,
   "id": "3dd407f9",
   "metadata": {},
   "outputs": [
    {
     "name": "stdout",
     "output_type": "stream",
     "text": [
      "<pyspark.sql.session.SparkSession object at 0x0000023A3703DAB0>\n",
      "<SparkContext master=local[4] appName=PySpark RDD>\n"
     ]
    }
   ],
   "source": [
    "# 此处插入代码\n",
    "import findspark\n",
    "findspark.init()\n",
    "\n",
    "from pyspark.sql import SparkSession\n",
    "# 本地模式\n",
    "spark = SparkSession.builder.\\\n",
    "    master(\"local[4]\").\\\n",
    "    appName(\"PySpark RDD\").\\\n",
    "    getOrCreate()\n",
    "sc = spark.sparkContext\n",
    "# sc.setLogLevel(\"ERROR\")\n",
    "print(spark)\n",
    "print(sc)"
   ]
  },
  {
   "cell_type": "markdown",
   "id": "892f80cd",
   "metadata": {},
   "source": [
    "利用 PySpark 读取文件并打印出前5行："
   ]
  },
  {
   "cell_type": "code",
   "execution_count": 13,
   "id": "5f6f457d",
   "metadata": {},
   "outputs": [
    {
     "name": "stdout",
     "output_type": "stream",
     "text": [
      "0.696469,0.286139,0.226851,0.551315,0.719469,0.423106,0.980764,0.684830,0.480932,0.392118\n",
      "0.343178,0.729050,0.438572,0.059678,0.398044,0.737995,0.182492,0.175452,0.531551,0.531828\n",
      "0.634401,0.849432,0.724455,0.611024,0.722443,0.322959,0.361789,0.228263,0.293714,0.630976\n",
      "0.092105,0.433701,0.430863,0.493685,0.425830,0.312261,0.426351,0.893389,0.944160,0.501837\n",
      "0.623953,0.115618,0.317285,0.414826,0.866309,0.250455,0.483034,0.985560,0.519485,0.612895\n"
     ]
    }
   ],
   "source": [
    "# 此处插入代码\n",
    "file = sc.textFile(\"sim_data.txt\")\n",
    "text = file.take(5)\n",
    "print(*text, sep=\"\\n\")"
   ]
  },
  {
   "cell_type": "markdown",
   "id": "6e6e6452",
   "metadata": {},
   "source": [
    "利用 `map()` 函数，生成一个元素类型为 Numpy 向量的 RDD，其每一个元素对应原始文本数据的每一行。打印出该 RDD 的前5个元素。"
   ]
  },
  {
   "cell_type": "code",
   "execution_count": 14,
   "id": "74296bda",
   "metadata": {},
   "outputs": [
    {
     "name": "stdout",
     "output_type": "stream",
     "text": [
      "[array([0.696469, 0.286139, 0.226851, 0.551315, 0.719469, 0.423106,\n",
      "       0.980764, 0.68483 , 0.480932, 0.392118]), array([0.343178, 0.72905 , 0.438572, 0.059678, 0.398044, 0.737995,\n",
      "       0.182492, 0.175452, 0.531551, 0.531828]), array([0.634401, 0.849432, 0.724455, 0.611024, 0.722443, 0.322959,\n",
      "       0.361789, 0.228263, 0.293714, 0.630976]), array([0.092105, 0.433701, 0.430863, 0.493685, 0.42583 , 0.312261,\n",
      "       0.426351, 0.893389, 0.94416 , 0.501837]), array([0.623953, 0.115618, 0.317285, 0.414826, 0.866309, 0.250455,\n",
      "       0.483034, 0.98556 , 0.519485, 0.612895])]\n"
     ]
    }
   ],
   "source": [
    "# 此处插入代码\n",
    "def str_to_vec(line):\n",
    "    str_vec = line.split(',')\n",
    "    num_vec = map(lambda x:float(x),str_vec)\n",
    "    return np.fromiter(num_vec,dtype=float)\n",
    "\n",
    "dat = file.map(str_to_vec) # 对每一行使用 str_to_vec 传进函数的是一行字符串\n",
    "print(dat.take(5))"
   ]
  },
  {
   "cell_type": "markdown",
   "id": "009cbfe6",
   "metadata": {},
   "source": [
    "利用 `map()` 和 `reduce()` 函数计算每一列的样本方差，并将结果打印出来。要求 `reduce()` 只能使用一次。"
   ]
  },
  {
   "cell_type": "code",
   "execution_count": 15,
   "id": "902b0f67",
   "metadata": {},
   "outputs": [
    {
     "name": "stdout",
     "output_type": "stream",
     "text": [
      "[0.08296877 0.08328241 0.0835851  0.08288007 0.08328285 0.0831696\n",
      " 0.08332109 0.08297298 0.08334512 0.08343152]\n"
     ]
    }
   ],
   "source": [
    "# 此处插入代码\n",
    "n,xsum,x2sum = dat.map(lambda x : (1,x,x**2)).reduce(lambda x,y: (x[0]+y[0],x[1]+y[1],x[2]+y[2]))\n",
    "xbar = xsum/n\n",
    "S = (x2sum - n * xbar**2)/(n - 1)\n",
    "print(S)"
   ]
  },
  {
   "cell_type": "markdown",
   "id": "447a674e",
   "metadata": {},
   "source": [
    "将原始文件的 RDD 划为10个分区，然后利用 `mapPartitions()` 函数将每个分区转成一个 Numpy 矩阵，过滤掉空的矩阵，最后得到一个元素类型为 Numpy 矩阵的 RDD。然后打印出该 RDD 的元素个数。"
   ]
  },
  {
   "cell_type": "code",
   "execution_count": 16,
   "id": "1fa333ff",
   "metadata": {},
   "outputs": [
    {
     "name": "stdout",
     "output_type": "stream",
     "text": [
      "10\n"
     ]
    }
   ],
   "source": [
    "# 此处插入代码\n",
    "file_p10 = file.repartition(10)\n",
    "\n",
    "def part_to_map(iter):\n",
    "    iter_arr = map(str_to_vec, iter) # rdd的分区是迭代器而不是rdd，因此没有map方法，只能用map函数\n",
    "    dat = list(iter_arr)\n",
    "    if len(dat)<1:\n",
    "        mat = np.array([])\n",
    "    else:\n",
    "        mat = np.vstack(dat)\n",
    "    yield mat\n",
    "\n",
    "dat = file_p10.mapPartitions(part_to_map).filter(lambda x : x.shape[0]>0)\n",
    "print(dat.count())"
   ]
  },
  {
   "cell_type": "markdown",
   "id": "7739817d",
   "metadata": {},
   "source": [
    "利用上述 RDD 和 `map()`、`reduce()` 函数计算每一列的样本方差，并将结果打印出来。要求 `reduce()` 只能使用一次。"
   ]
  },
  {
   "cell_type": "code",
   "execution_count": 17,
   "id": "cb621557",
   "metadata": {},
   "outputs": [
    {
     "name": "stdout",
     "output_type": "stream",
     "text": [
      "[0.08296877 0.08328241 0.0835851  0.08288007 0.08328285 0.0831696\n",
      " 0.08332109 0.08297298 0.08334512 0.08343152]\n"
     ]
    }
   ],
   "source": [
    "# 此处插入代码\n",
    "n_p10,xsum_p10,x2sum_p10 = dat.\\\n",
    "    map(lambda x : (x.shape[0],np.sum(x,axis=0),np.sum(x**2,axis=0))).\\\n",
    "    reduce(lambda x,y:(x[0]+y[0],x[1]+y[1],x[2]+y[2]))\n",
    "xbar_p10 = xsum_p10/n_p10\n",
    "S_p10 = (x2sum_p10 - n_p10 * xbar_p10**2)/(n_p10 - 1)\n",
    "print(S_p10)"
   ]
  }
 ],
 "metadata": {
  "kernelspec": {
   "display_name": "Python 3 (ipykernel)",
   "language": "python",
   "name": "python3"
  },
  "language_info": {
   "codemirror_mode": {
    "name": "ipython",
    "version": 3
   },
   "file_extension": ".py",
   "mimetype": "text/x-python",
   "name": "python",
   "nbconvert_exporter": "python",
   "pygments_lexer": "ipython3",
   "version": "3.10.9"
  }
 },
 "nbformat": 4,
 "nbformat_minor": 5
}
